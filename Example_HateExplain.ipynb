{
  "nbformat": 4,
  "nbformat_minor": 0,
  "metadata": {
    "colab": {
      "name": "Example_HateExplain.ipynb",
      "provenance": [],
      "authorship_tag": "ABX9TyPhJwurw7M0Hzw9u9jxNN8M",
      "include_colab_link": true
    },
    "kernelspec": {
      "name": "python3",
      "display_name": "Python 3"
    }
  },
  "cells": [
    {
      "cell_type": "markdown",
      "metadata": {
        "id": "view-in-github",
        "colab_type": "text"
      },
      "source": [
        "<a href=\"https://colab.research.google.com/github/punyajoy/HateXplain/blob/master/Example_HateExplain.ipynb\" target=\"_parent\"><img src=\"https://colab.research.google.com/assets/colab-badge.svg\" alt=\"Open In Colab\"/></a>"
      ]
    },
    {
      "cell_type": "code",
      "metadata": {
        "colab": {
          "base_uri": "https://localhost:8080/"
        },
        "id": "D5Hqb1OvsXDR",
        "outputId": "decfc8ed-c5fa-4912-bf4e-a8e2cd36cbe0"
      },
      "source": [
        "!git clone https://github.com/punyajoy/HateXplain.git"
      ],
      "execution_count": 1,
      "outputs": [
        {
          "output_type": "stream",
          "text": [
            "Cloning into 'HateXplain'...\n",
            "remote: Enumerating objects: 195, done.\u001b[K\n",
            "remote: Counting objects: 100% (195/195), done.\u001b[K\n",
            "remote: Compressing objects: 100% (160/160), done.\u001b[K\n",
            "remote: Total 195 (delta 103), reused 85 (delta 33), pack-reused 0\u001b[K\n",
            "Receiving objects: 100% (195/195), 4.41 MiB | 6.01 MiB/s, done.\n",
            "Resolving deltas: 100% (103/103), done.\n"
          ],
          "name": "stdout"
        }
      ]
    },
    {
      "cell_type": "code",
      "metadata": {
        "id": "5l4M1_SHtDIm",
        "colab": {
          "base_uri": "https://localhost:8080/"
        },
        "outputId": "0a03a99c-370d-44f4-f8d5-98905262ca75"
      },
      "source": [
        "cd HateXplain/"
      ],
      "execution_count": 3,
      "outputs": [
        {
          "output_type": "stream",
          "text": [
            "/content/HateXplain\n"
          ],
          "name": "stdout"
        }
      ]
    },
    {
      "cell_type": "code",
      "metadata": {
        "id": "vl3PF9alWjHx"
      },
      "source": [
        "!mkdir Saved/\n",
        "!mkdir explanations_dicts/"
      ],
      "execution_count": 5,
      "outputs": []
    },
    {
      "cell_type": "code",
      "metadata": {
        "colab": {
          "base_uri": "https://localhost:8080/"
        },
        "id": "qU8P_dV5Wnk5",
        "outputId": "f8ca4d09-f6ab-4026-ac25-a553901fa56e"
      },
      "source": [
        "!wget "
      ],
      "execution_count": 6,
      "outputs": [
        {
          "output_type": "stream",
          "text": [
            "\u001b[0m\u001b[01;34mbest_model_json\u001b[0m/                     \u001b[01;34mModels\u001b[0m/\n",
            "best_runs.sh                         Parameters_description.md\n",
            "Bias_Calculation_NB.ipynb            parameters_selection.py\n",
            "convert_to_word2vec.py               \u001b[01;34mPreprocess\u001b[0m/\n",
            "\u001b[01;34mData\u001b[0m/                                README.md\n",
            "Example_HateExplain.ipynb            \u001b[01;34mSaved\u001b[0m/\n",
            "Explainability_Calculation_NB.ipynb  \u001b[01;34mTensorDataset\u001b[0m/\n",
            "\u001b[01;34mexplanations_dicts\u001b[0m/                  testing_for_bias.py\n",
            "\u001b[01;34mFigures\u001b[0m/                             testing_with_lime.py\n",
            "LICENSE                              testing_with_rational.py\n",
            "manual_training_inference.py         test_parallel.sh\n"
          ],
          "name": "stdout"
        }
      ]
    },
    {
      "cell_type": "code",
      "metadata": {
        "id": "WZi9IlH-W_83"
      },
      "source": [
        ""
      ],
      "execution_count": null,
      "outputs": []
    }
  ]
}